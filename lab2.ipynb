{
 "cells": [
  {
   "cell_type": "markdown",
   "metadata": {},
   "source": [
    "### Lab 2\n",
    "##### Task 1\n",
    "- Scenario: You are processing player statistics for a sports analytics application.\n",
    "1. Create a NumPy array for player statistics (heights, weights, points scored).\n",
    "2. Update the weight of the player with the maximum points scored.\n",
    "3. Append a new player's statistics to the array.\n",
    "4. Insert a new statistic at a specified index within the array.\n",
    "5. Delete the player with the lowest points scored."
   ]
  },
  {
   "cell_type": "code",
   "execution_count": null,
   "metadata": {},
   "outputs": [],
   "source": [
    "import numpy as np\n",
    "stats = np.random.randint(1, 100, (100, 3))\n",
    "# np.append()\n",
    "stats"
   ]
  },
  {
   "cell_type": "code",
   "execution_count": 35,
   "metadata": {},
   "outputs": [
    {
     "data": {
      "text/plain": [
       "array([[180,  75,  30],\n",
       "       [190,  85,  25],\n",
       "       [175,  70,  40],\n",
       "       [185,  90,  20]])"
      ]
     },
     "execution_count": 35,
     "metadata": {},
     "output_type": "execute_result"
    }
   ],
   "source": [
    "import numpy as np\n",
    "\n",
    "player_stats = np.array([\n",
    "    [180, 75, 30],\n",
    "    [190, 85, 25],\n",
    "    [175, 70, 40],\n",
    "    [185, 90, 20]\n",
    "])\n",
    "player_stats\n"
   ]
  },
  {
   "cell_type": "code",
   "execution_count": 36,
   "metadata": {},
   "outputs": [
    {
     "data": {
      "text/plain": [
       "(array([[180,  75,  30],\n",
       "        [190,  85,  25],\n",
       "        [175,  13,  40],\n",
       "        [185,  90,  20]]),\n",
       " np.int64(2))"
      ]
     },
     "execution_count": 36,
     "metadata": {},
     "output_type": "execute_result"
    }
   ],
   "source": [
    "max_index = np.argmax(player_stats[:, 2])\n",
    "\n",
    "# Update\n",
    "player_stats[max_index, 1] = np.random.randint(100)\n",
    "player_stats, max_index"
   ]
  },
  {
   "cell_type": "code",
   "execution_count": 37,
   "metadata": {},
   "outputs": [
    {
     "data": {
      "text/plain": [
       "array([[180,  75,  30],\n",
       "       [190,  85,  25],\n",
       "       [175,  13,  40],\n",
       "       [185,  90,  20],\n",
       "       [178,  80,  35]])"
      ]
     },
     "execution_count": 37,
     "metadata": {},
     "output_type": "execute_result"
    }
   ],
   "source": [
    "# New player\n",
    "new_player = np.array([[178, 80, 35]])\n",
    "\n",
    "# Append\n",
    "player_stats = np.vstack([player_stats, new_player])\n",
    "player_stats"
   ]
  },
  {
   "cell_type": "code",
   "execution_count": 38,
   "metadata": {},
   "outputs": [
    {
     "data": {
      "text/plain": [
       "array([[180,  75,  30],\n",
       "       [190,  85,  25],\n",
       "       [175,  13,  40],\n",
       "       [182,  78,  22],\n",
       "       [185,  90,  20],\n",
       "       [178,  80,  35]])"
      ]
     },
     "execution_count": 38,
     "metadata": {},
     "output_type": "execute_result"
    }
   ],
   "source": [
    "# Insert a new row at index 3\n",
    "new_stat = [182, 78, 22]\n",
    "player_stats = np.insert(player_stats, 3, new_stat, axis=0)\n",
    "player_stats"
   ]
  },
  {
   "cell_type": "code",
   "execution_count": 39,
   "metadata": {},
   "outputs": [
    {
     "data": {
      "text/plain": [
       "(array([[180,  75,  30],\n",
       "        [190,  85,  25],\n",
       "        [175,  13,  40],\n",
       "        [182,  78,  22],\n",
       "        [178,  80,  35]]),\n",
       " np.int64(4))"
      ]
     },
     "execution_count": 39,
     "metadata": {},
     "output_type": "execute_result"
    }
   ],
   "source": [
    "# lowest points\n",
    "min_index = np.argmin(player_stats[:, 2])\n",
    "\n",
    "# Delete\n",
    "player_stats = np.delete(player_stats, min_index, axis=0)\n",
    "player_stats, min_index"
   ]
  },
  {
   "cell_type": "markdown",
   "metadata": {},
   "source": [
    "#### Task 2\n",
    "- Scenario: You are analyzing customer purchases.\n",
    "1. Create two NumPy arrays for purchase amounts and item counts.\n",
    "2. Create a shallow copy of one and a deep copy of the other.\n",
    "3. Concatenate both arrays.\n",
    "4. Split the concatenated array based on a condition.\n",
    "5. Modify the original arrays and analyze the effects on the copies."
   ]
  },
  {
   "cell_type": "code",
   "execution_count": 41,
   "metadata": {},
   "outputs": [
    {
     "data": {
      "text/plain": [
       "(array([150, 200,  50,  75, 100]), array([3, 5, 2, 4, 1]))"
      ]
     },
     "execution_count": 41,
     "metadata": {},
     "output_type": "execute_result"
    }
   ],
   "source": [
    "purchase_amounts = np.array([150, 200, 50, 75, 100])\n",
    "item_counts = np.array([3, 5, 2, 4, 1])\n",
    "purchase_amounts, item_counts"
   ]
  },
  {
   "cell_type": "code",
   "execution_count": 42,
   "metadata": {},
   "outputs": [
    {
     "data": {
      "text/plain": [
       "(array([150, 200,  50,  75, 100]),\n",
       " array([3, 5, 2, 4, 1]),\n",
       " array([150, 200,  50,  75, 100]),\n",
       " array([3, 5, 2, 4, 1]))"
      ]
     },
     "execution_count": 42,
     "metadata": {},
     "output_type": "execute_result"
    }
   ],
   "source": [
    "purchase_shallow = purchase_amounts.view()\n",
    "item_counts_deep = item_counts.copy()\n",
    "purchase_shallow, item_counts_deep, purchase_amounts, item_counts"
   ]
  },
  {
   "cell_type": "code",
   "execution_count": 43,
   "metadata": {},
   "outputs": [
    {
     "data": {
      "text/plain": [
       "array([150, 200,  50,  75, 100,   3,   5,   2,   4,   1])"
      ]
     },
     "execution_count": 43,
     "metadata": {},
     "output_type": "execute_result"
    }
   ],
   "source": [
    "combined_data = np.concatenate((purchase_amounts, item_counts))\n",
    "combined_data"
   ]
  },
  {
   "cell_type": "code",
   "execution_count": 45,
   "metadata": {},
   "outputs": [
    {
     "data": {
      "text/plain": [
       "(array([50, 75,  3,  5,  2,  4,  1]), array([150, 200, 100]))"
      ]
     },
     "execution_count": 45,
     "metadata": {},
     "output_type": "execute_result"
    }
   ],
   "source": [
    "below_100 = combined_data[combined_data < 100]\n",
    "above_or_equal_100 = combined_data[combined_data >= 100]\n",
    "below_100, above_or_equal_100"
   ]
  },
  {
   "cell_type": "code",
   "execution_count": 46,
   "metadata": {},
   "outputs": [
    {
     "name": "stdout",
     "output_type": "stream",
     "text": [
      "Original purchase_amounts before change: [150 200  50  75 100]\n",
      "Shallow copy: [150 200  50  75 100]\n",
      "Original purchase_amounts after change: [180 200  50  75 100]\n",
      "Shallow copy: [180 200  50  75 100]\n",
      "Original item_counts: [3 6 2 4 1]\n",
      "Deep copy: [3 5 2 4 1]\n"
     ]
    }
   ],
   "source": [
    "print(\"Original purchase_amounts before change:\", purchase_amounts)\n",
    "print(\"Shallow copy:\", purchase_shallow)\n",
    "purchase_amounts[0] = 180\n",
    "item_counts[1] = 6\n",
    "print(\"Original purchase_amounts after change:\", purchase_amounts)\n",
    "print(\"Shallow copy:\", purchase_shallow)\n",
    "print(\"Original item_counts:\", item_counts)\n",
    "print(\"Deep copy:\", item_counts_deep)\n"
   ]
  },
  {
   "cell_type": "code",
   "execution_count": null,
   "metadata": {},
   "outputs": [],
   "source": []
  }
 ],
 "metadata": {
  "kernelspec": {
   "display_name": "Python 3",
   "language": "python",
   "name": "python3"
  },
  "language_info": {
   "codemirror_mode": {
    "name": "ipython",
    "version": 3
   },
   "file_extension": ".py",
   "mimetype": "text/x-python",
   "name": "python",
   "nbconvert_exporter": "python",
   "pygments_lexer": "ipython3",
   "version": "3.12.6"
  }
 },
 "nbformat": 4,
 "nbformat_minor": 2
}
