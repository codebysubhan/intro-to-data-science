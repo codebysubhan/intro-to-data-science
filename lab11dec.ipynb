{
 "cells": [
  {
   "cell_type": "code",
   "execution_count": 12,
   "id": "9a5fc675-1e67-49da-aa1a-217a0a767576",
   "metadata": {},
   "outputs": [],
   "source": [
    "import numpy as np\n",
    "import pandas as pd"
   ]
  },
  {
   "cell_type": "markdown",
   "id": "378cde05-3a0e-4d3e-b607-050031e524ec",
   "metadata": {},
   "source": [
    "## Task 1-a"
   ]
  },
  {
   "cell_type": "code",
   "execution_count": 13,
   "id": "b6d85b6f-39f5-4a8a-b38c-d5698094e002",
   "metadata": {},
   "outputs": [
    {
     "name": "stdout",
     "output_type": "stream",
     "text": [
      "df.head() = \n",
      "    Id  SepalLengthCm  SepalWidthCm  PetalLengthCm  PetalWidthCm      Species\n",
      "0   1            5.1           3.5            1.4           0.2  Iris-setosa\n",
      "1   2            4.9           3.0            1.4           0.2  Iris-setosa\n",
      "2   3            4.7           3.2            1.3           0.2  Iris-setosa\n",
      "3   4            4.6           3.1            1.5           0.2  Iris-setosa\n",
      "4   5            5.0           3.6            1.4           0.2  Iris-setosa\n",
      "Missing values count: \n",
      " Id               0\n",
      "SepalLengthCm    0\n",
      "SepalWidthCm     0\n",
      "PetalLengthCm    0\n",
      "PetalWidthCm     0\n",
      "Species          0\n",
      "dtype: int64\n"
     ]
    }
   ],
   "source": [
    "df = pd.read_csv(\"iris.csv\")\n",
    "print(\"df.head() = \\n\",df.head())\n",
    "print(\"Missing values count: \\n\", df.isnull().sum())"
   ]
  },
  {
   "cell_type": "markdown",
   "id": "c3acbea2-ff2b-4ac5-9111-0caf65c736fa",
   "metadata": {},
   "source": [
    "## Task 1-b"
   ]
  },
  {
   "cell_type": "code",
   "execution_count": 16,
   "id": "213d9312-4cde-40e2-98bc-95ea8acc2341",
   "metadata": {},
   "outputs": [],
   "source": [
    "# numeric_columns = ['SepalLengthCm', 'SepalWidthCm', 'PetalLengthCm', 'PetalWidthCm']\n",
    "# for col in numeric_columns:\n",
    "#     if col in df.columns:\n",
    "#         # print(col)\n",
    "#         mean_value = df[col].mean()\n",
    "#         df[col].fillna(mean_value, inplace=True)\n"
   ]
  },
  {
   "cell_type": "markdown",
   "id": "9904be67-0f1d-4143-b42a-387f76c24b8c",
   "metadata": {},
   "source": [
    "## Task 2-a"
   ]
  },
  {
   "cell_type": "code",
   "execution_count": 18,
   "id": "cfe7feac-b9a1-4208-bf38-4686cb5636b6",
   "metadata": {},
   "outputs": [
    {
     "name": "stdout",
     "output_type": "stream",
     "text": [
      "Number of duplicate rows: 0\n"
     ]
    }
   ],
   "source": [
    "duplicates = df.duplicated().sum()\n",
    "print(f\"Number of duplicate rows: {duplicates}\")\n",
    "df.drop_duplicates(inplace=True)\n"
   ]
  },
  {
   "cell_type": "markdown",
   "id": "e085d06e-462a-4e63-9ca7-90e88a4a713b",
   "metadata": {},
   "source": [
    "## Task 2-b"
   ]
  },
  {
   "cell_type": "code",
   "execution_count": 20,
   "id": "817b2a76-a67b-443a-99f6-cb44bc79fa51",
   "metadata": {},
   "outputs": [],
   "source": [
    "if {'petal_length', 'petal_width'}.issubset(df.columns):\n",
    "    df['petal_area'] = df['petal_length'] * df['petal_width']\n",
    "    print(\"New column 'petal_area' added.\")\n"
   ]
  },
  {
   "cell_type": "markdown",
   "id": "553e214f-62b4-42f7-91ea-352ffb4edb5c",
   "metadata": {},
   "source": [
    "## Task 2-c"
   ]
  },
  {
   "cell_type": "code",
   "execution_count": 21,
   "id": "5e5bd99c-a45a-40b2-a50e-9d293945574e",
   "metadata": {},
   "outputs": [],
   "source": [
    "df.dropna(inplace=True)"
   ]
  },
  {
   "cell_type": "code",
   "execution_count": 22,
   "id": "a8e7a0b7-6a59-452f-9dac-046b5e50d5c2",
   "metadata": {},
   "outputs": [
    {
     "name": "stdout",
     "output_type": "stream",
     "text": [
      "Remaining missing values:\n",
      "Id               0\n",
      "SepalLengthCm    0\n",
      "SepalWidthCm     0\n",
      "PetalLengthCm    0\n",
      "PetalWidthCm     0\n",
      "Species          0\n",
      "dtype: int64\n"
     ]
    }
   ],
   "source": [
    "print(f\"Remaining missing values:\\n{df.isnull().sum()}\")"
   ]
  },
  {
   "cell_type": "markdown",
   "id": "1d98daf2-ad3a-4234-801b-6b530eed2b41",
   "metadata": {},
   "source": [
    "## Task 3-a"
   ]
  },
  {
   "cell_type": "code",
   "execution_count": 48,
   "id": "592fcace-764f-47bf-b88d-c5be1ad0ee29",
   "metadata": {},
   "outputs": [
    {
     "name": "stdout",
     "output_type": "stream",
     "text": [
      "Categorical 'species' converted to numeric.\n"
     ]
    }
   ],
   "source": [
    "# df['Species'].unique()\n",
    "df['species_numeric'] = df['Species'].astype('category').cat.codes\n",
    "print(\"Categorical 'species' converted to numeric.\")"
   ]
  },
  {
   "cell_type": "markdown",
   "id": "14f26964-47d1-4e2c-8afa-75794bee5f46",
   "metadata": {},
   "source": [
    "## Task 3-b"
   ]
  },
  {
   "cell_type": "code",
   "execution_count": 45,
   "id": "76137445-fc6d-4c9d-80ae-a6b63fab35ec",
   "metadata": {},
   "outputs": [
    {
     "name": "stdout",
     "output_type": "stream",
     "text": [
      "Mean values grouped by species:\n",
      "\n",
      "                 SepalLengthCm  SepalWidthCm  PetalLengthCm  PetalWidthCm\n",
      "Species                                                                  \n",
      "Iris-setosa              5.006         3.418          1.464         0.244\n",
      "Iris-versicolor          5.936         2.770          4.260         1.326\n",
      "Iris-virginica           6.588         2.974          5.552         2.026\n"
     ]
    }
   ],
   "source": [
    "numeric_columns = ['SepalLengthCm', 'SepalWidthCm', 'PetalLengthCm', 'PetalWidthCm']\n",
    "# df.columns\n",
    "species_mean = df.groupby('Species')[numeric_columns].mean()\n",
    "print(\"Mean values grouped by species:\\n\")\n",
    "print(species_mean)\n"
   ]
  },
  {
   "cell_type": "markdown",
   "id": "bda70f22-66e5-497d-86ad-fdb765052508",
   "metadata": {},
   "source": [
    "## Task 4"
   ]
  },
  {
   "cell_type": "code",
   "execution_count": null,
   "id": "cb5272e1-9243-487e-bf57-b749e799a97b",
   "metadata": {},
   "outputs": [],
   "source": []
  }
 ],
 "metadata": {
  "kernelspec": {
   "display_name": "Python 3 (ipykernel)",
   "language": "python",
   "name": "python3"
  },
  "language_info": {
   "codemirror_mode": {
    "name": "ipython",
    "version": 3
   },
   "file_extension": ".py",
   "mimetype": "text/x-python",
   "name": "python",
   "nbconvert_exporter": "python",
   "pygments_lexer": "ipython3",
   "version": "3.12.6"
  }
 },
 "nbformat": 4,
 "nbformat_minor": 5
}
