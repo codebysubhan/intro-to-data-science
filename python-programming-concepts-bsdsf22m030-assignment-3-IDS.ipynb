{
 "cells": [
  {
   "cell_type": "markdown",
   "metadata": {},
   "source": [
    "# Assignment 3: Python Programming Concepts\n",
    "\n",
    "### Task 1: E-commerce Data Processing\n",
    "\n",
    "#### Part A: Data Validation\n"
   ]
  },
  {
   "cell_type": "code",
   "execution_count": null,
   "metadata": {
    "vscode": {
     "languageId": "plaintext"
    }
   },
   "outputs": [],
   "source": [
    "orders = [\n",
    "    {\"customer\": \"Alice\", \"total\": 250.5},\n",
    "    {\"customer\": \"Bob\", \"total\": \"invalid_data\"},\n",
    "    {\"customer\": \"Charlie\", \"total\": 450},\n",
    "    {\"customer\": \"Daisy\", \"total\": 100.0},\n",
    "    {\"customer\": \"Eve\", \"total\": -30},\n",
    "]\n",
    "\n",
    "def validate_orders(orders):\n",
    "    def is_valid(order):\n",
    "        try:\n",
    "            return float(order[\"total\"]) >= 0\n",
    "        except (ValueError, TypeError):\n",
    "            return False\n",
    "\n",
    "    valid_orders = list(filter(is_valid, orders))\n",
    "    return valid_orders\n",
    "\n",
    "valid_orders = validate_orders(orders)\n",
    "valid_orders\n"
   ]
  },
  {
   "cell_type": "markdown",
   "metadata": {},
   "source": [
    "#### Part B: Discount Application"
   ]
  },
  {
   "cell_type": "code",
   "execution_count": null,
   "metadata": {
    "vscode": {
     "languageId": "plaintext"
    }
   },
   "outputs": [],
   "source": [
    "def apply_discount(orders):\n",
    "    return list(map(lambda order: {**order, \"total\": order[\"total\"] * 0.9} if order[\"total\"] > 300 else order, orders))\n",
    "\n",
    "discounted_orders = apply_discount(valid_orders)\n",
    "discounted_orders\n"
   ]
  },
  {
   "cell_type": "markdown",
   "metadata": {},
   "source": [
    "#### Part C: Total Sales Calculation\n"
   ]
  },
  {
   "cell_type": "code",
   "execution_count": null,
   "metadata": {
    "vscode": {
     "languageId": "plaintext"
    }
   },
   "outputs": [],
   "source": [
    "from functools import reduce\n",
    "\n",
    "def calculate_total_sales(orders):\n",
    "    return reduce(lambda acc, order: acc + order[\"total\"], orders, 0)\n",
    "\n",
    "total_sales = calculate_total_sales(discounted_orders)\n",
    "total_sales\n"
   ]
  },
  {
   "cell_type": "markdown",
   "metadata": {},
   "source": [
    "### Task 2: Iterator and Generator\n",
    "\n",
    "#### Part A: Custom Iterator\n"
   ]
  },
  {
   "cell_type": "code",
   "execution_count": null,
   "metadata": {
    "vscode": {
     "languageId": "plaintext"
    }
   },
   "outputs": [],
   "source": [
    "class SquareIterator:\n",
    "    def __init__(self, n):\n",
    "        self.n = n\n",
    "        self.current = 1\n",
    "\n",
    "    def __iter__(self):\n",
    "        return self\n",
    "\n",
    "    def __next__(self):\n",
    "        if self.current <= self.n:\n",
    "            result = self.current ** 2\n",
    "            self.current += 1\n",
    "            return result\n",
    "        else:\n",
    "            raise StopIteration\n",
    "\n",
    "square_iter = SquareIterator(5)\n",
    "for square in square_iter:\n",
    "    print(square)\n"
   ]
  },
  {
   "cell_type": "markdown",
   "metadata": {},
   "source": [
    "#### Part B: Fibonacci Generator\n"
   ]
  },
  {
   "cell_type": "code",
   "execution_count": null,
   "metadata": {
    "vscode": {
     "languageId": "plaintext"
    }
   },
   "outputs": [],
   "source": [
    "def fibonacci_generator(n):\n",
    "    a, b = 0, 1\n",
    "    while a <= n:\n",
    "        yield a\n",
    "        a, b = b, a + b\n",
    "\n",
    "for num in fibonacci_generator(10):\n",
    "    print(num)\n"
   ]
  },
  {
   "cell_type": "markdown",
   "metadata": {},
   "source": [
    "### Task 3: Exception Handling and Function Decorator\n",
    "\n",
    "#### Part A: Chained Exceptions\n"
   ]
  },
  {
   "cell_type": "code",
   "execution_count": null,
   "metadata": {
    "vscode": {
     "languageId": "plaintext"
    }
   },
   "outputs": [],
   "source": [
    "class DivisionByZeroError(Exception):\n",
    "    pass\n",
    "\n",
    "def divide_numbers(numbers, divisor):\n",
    "    results = []\n",
    "    for number in numbers:\n",
    "        try:\n",
    "            if divisor == 0:\n",
    "                raise DivisionByZeroError(\"Divisor cannot be zero.\")\n",
    "            result = number / divisor\n",
    "            results.append(result)\n",
    "        except DivisionByZeroError as e:\n",
    "            raise e\n",
    "        except Exception as e:\n",
    "            raise ValueError(f\"Error dividing {number} by {divisor}\") from e\n",
    "    return results\n",
    "\n",
    "try:\n",
    "    divide_numbers([10, 20, \"a\"], 0)\n",
    "except Exception as e:\n",
    "    print(f\"Caught exception: {e}\")\n"
   ]
  },
  {
   "cell_type": "markdown",
   "metadata": {},
   "source": [
    "#### Part B: Exception Logging Decorator\n"
   ]
  },
  {
   "cell_type": "code",
   "execution_count": null,
   "metadata": {
    "vscode": {
     "languageId": "plaintext"
    }
   },
   "outputs": [],
   "source": [
    "import functools\n",
    "\n",
    "def exception_logger(func):\n",
    "    @functools.wraps(func)\n",
    "    def wrapper(*args, **kwargs):\n",
    "        try:\n",
    "            return func(*args, **kwargs)\n",
    "        except Exception as e:\n",
    "            print(f\"Exception occurred in {func.__name__}: {type(e).__name__} - {e}\")\n",
    "            raise\n",
    "    return wrapper\n",
    "\n",
    "@exception_logger\n",
    "def test_func(x, y):\n",
    "    return x / y\n",
    "\n",
    "try:\n",
    "    test_func(5, 0)\n",
    "except Exception:\n",
    "    pass\n"
   ]
  },
  {
   "cell_type": "code",
   "execution_count": null,
   "metadata": {
    "vscode": {
     "languageId": "plaintext"
    }
   },
   "outputs": [],
   "source": []
  }
 ],
 "metadata": {
  "language_info": {
   "name": "python"
  }
 },
 "nbformat": 4,
 "nbformat_minor": 2
}
