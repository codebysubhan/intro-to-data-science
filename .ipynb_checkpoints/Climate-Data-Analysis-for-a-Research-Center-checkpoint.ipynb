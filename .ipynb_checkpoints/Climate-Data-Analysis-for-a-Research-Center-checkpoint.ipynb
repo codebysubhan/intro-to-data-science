{
 "cells": [
  {
   "cell_type": "markdown",
   "id": "398fac1e-8c94-4551-bea1-58c36e7070ba",
   "metadata": {},
   "source": [
    "## Scenario: Climate Data Analysis for a Research Center - Assignment 4\n",
    "##### As a data scientist at a climate research center, you have been provided with daily temperature and humidity data collected from 500 locations over one year. Your objective is to analyze this data for trends, seasonal patterns, and other useful metrics that can aid in understanding climate changes across various regions."
   ]
  },
  {
   "cell_type": "markdown",
   "id": "56883c38-0f7b-45ad-98db-a5d351ef887d",
   "metadata": {},
   "source": [
    "### Task 1\n",
    "### Initialize Temperature and Humidity Data\n",
    "#### Set up two arrays to represent daily data:\n",
    "- temperature_data: Randomly generated temperature values in Celsius, ranging between -10 and 40 degrees, for each of the 500 locations across 365 days.\n",
    "- humidity_data: Randomly generated humidity percentages, ranging from 0 to 100, for each location and day."
   ]
  },
  {
   "cell_type": "code",
   "execution_count": 1,
   "id": "9b9caf63-399a-49c3-8621-b5563edc3a5b",
   "metadata": {},
   "outputs": [],
   "source": [
    "import numpy as np"
   ]
  },
  {
   "cell_type": "code",
   "execution_count": null,
   "id": "34a28f8e-4ff5-4b3c-99d7-323c830be3c9",
   "metadata": {},
   "outputs": [],
   "source": []
  }
 ],
 "metadata": {
  "kernelspec": {
   "display_name": "Python 3 (ipykernel)",
   "language": "python",
   "name": "python3"
  },
  "language_info": {
   "codemirror_mode": {
    "name": "ipython",
    "version": 3
   },
   "file_extension": ".py",
   "mimetype": "text/x-python",
   "name": "python",
   "nbconvert_exporter": "python",
   "pygments_lexer": "ipython3",
   "version": "3.12.6"
  }
 },
 "nbformat": 4,
 "nbformat_minor": 5
}
