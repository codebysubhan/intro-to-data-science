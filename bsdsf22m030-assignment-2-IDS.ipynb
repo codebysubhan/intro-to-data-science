{
 "cells": [
  {
   "cell_type": "markdown",
   "id": "a7191503-1994-4ca2-bad8-410ead38f22a",
   "metadata": {},
   "source": [
    "# Building a Smart Data Aggregator - Assignment 2"
   ]
  },
  {
   "cell_type": "markdown",
   "id": "c5a44b61-8b9b-4677-9e9b-1f71801f91d7",
   "metadata": {},
   "source": [
    "## Part 1: User Data Processing with Lists"
   ]
  },
  {
   "cell_type": "markdown",
   "id": "314e1b80-aa2f-46ae-a93d-b9b46e479c46",
   "metadata": {},
   "source": [
    "### Write a function to:\n",
    "- Filter out users older than 30 from specific countries (‘USA’, ‘Canada’)."
   ]
  },
  {
   "cell_type": "code",
   "execution_count": 1,
   "id": "94e9945a-7e31-4429-adaf-ae57d63687ba",
   "metadata": {},
   "outputs": [],
   "source": [
    "def filter_users(data):\n",
    "    country_to_check = (\"usa\", \"canada\")\n",
    "    out = []\n",
    "    for user in data:\n",
    "        if int(user[2]) > 30 and user[3].lower() in country_to_check:\n",
    "            out.append(user.copy())\n",
    "    return out"
   ]
  },
  {
   "cell_type": "markdown",
   "id": "88380c9f-bcce-462c-93f8-64f7390b0a95",
   "metadata": {},
   "source": [
    "- Extract their names into a new list."
   ]
  },
  {
   "cell_type": "code",
   "execution_count": 2,
   "id": "10f26aff-6a1a-4113-bc4d-1c43dd97b972",
   "metadata": {},
   "outputs": [],
   "source": [
    "def extract_names(data):\n",
    "    filtered_users = filter_users(data)\n",
    "    names = []\n",
    "    for user in filtered_users:\n",
    "        names.append(str(user[1]))\n",
    "    return names"
   ]
  },
  {
   "cell_type": "markdown",
   "id": "80949416-ec7b-4b80-97ac-67ea20bc8d41",
   "metadata": {},
   "source": [
    "### Implement a function that:\n",
    "- Sorts the original list of tuples by age and returns the top 10 oldest users."
   ]
  },
  {
   "cell_type": "code",
   "execution_count": 3,
   "id": "1e11deb7-e232-4358-adc8-ba3e833f4036",
   "metadata": {},
   "outputs": [],
   "source": [
    "def by_age(row):\n",
    "    return int(row[2])\n",
    "def sort_by_age(data):\n",
    "    data.sort(key=by_age)\n",
    "    return data"
   ]
  },
  {
   "cell_type": "markdown",
   "id": "5f06b73c-f231-4e4b-a267-222611a90017",
   "metadata": {},
   "source": [
    "- checks if there are any users with duplicate names in the list. If duplicates are\n",
    "found, output those names."
   ]
  },
  {
   "cell_type": "code",
   "execution_count": 4,
   "id": "6a9440c5-2c15-4185-b5f8-7e1e121721c3",
   "metadata": {},
   "outputs": [],
   "source": [
    "def check_duplicates(data):\n",
    "    check = set()\n",
    "    out = []\n",
    "    for user in data:\n",
    "        name = user[1].lower()\n",
    "        if name not in check:\n",
    "            check.add(name)\n",
    "        else:\n",
    "            out.append(name)\n",
    "    return list(set(out))"
   ]
  },
  {
   "cell_type": "markdown",
   "id": "2522d0fd-cc4a-4a79-bae9-cdf57a8a2c3c",
   "metadata": {},
   "source": [
    "## Part 2: Immutable Data Management with Tuples"
   ]
  },
  {
   "cell_type": "markdown",
   "id": "1d965b9a-978d-474d-8012-f5c0c54f3e0a",
   "metadata": {},
   "source": [
    "### Write a function that:"
   ]
  },
  {
   "cell_type": "markdown",
   "id": "fe789b95-8caf-4f9d-9397-4fee1f56f36c",
   "metadata": {},
   "source": [
    "- Takes a list of transactions (tuples) and finds the total number of unique users\n",
    "involved in transactions."
   ]
  },
  {
   "cell_type": "markdown",
   "id": "e8a6ab62-821a-413c-a288-8957b696b944",
   "metadata": {},
   "source": [
    "\n",
    "- Ensures the integrity of the tuples by avoiding any changes to the original data."
   ]
  },
  {
   "cell_type": "code",
   "execution_count": 5,
   "id": "b154cd04-5c49-45ac-8acf-9edd88e2d29b",
   "metadata": {},
   "outputs": [],
   "source": [
    "def get_unique_users(data):\n",
    "    check = set()\n",
    "    unique_list = []\n",
    "    for user in data:\n",
    "        if user[1] not in check:\n",
    "            check.add(user[0])\n",
    "            unique_list.append(user)\n",
    "    return unique_list"
   ]
  },
  {
   "cell_type": "markdown",
   "id": "516d145b-9b52-45b2-9e52-58c3f8d11fae",
   "metadata": {},
   "source": [
    "### Implement a function that:\n",
    "- Identifies and returns the transaction with the highest amount without altering the\n",
    "list of tuples."
   ]
  },
  {
   "cell_type": "code",
   "execution_count": 6,
   "id": "7845f82b-1d40-4479-9673-690c23492599",
   "metadata": {},
   "outputs": [],
   "source": [
    "def get_highest_amount(data):\n",
    "    amount = float('-inf')\n",
    "    my_tup = None\n",
    "    for transaction in data:\n",
    "        if int(transaction[2]) > amount:\n",
    "            amount = int(transaction[2])\n",
    "            my_tup = transaction\n",
    "    return my_tup"
   ]
  },
  {
   "cell_type": "markdown",
   "id": "f6c49586-6e1d-4f53-b07d-394ecb24d110",
   "metadata": {},
   "source": [
    "- receives a list of tuples and returns two separate lists: one containing all the\n",
    "transaction_ids and the other containing all user_ids. What challenges might\n",
    "arise if the tuple size is inconsistent?"
   ]
  },
  {
   "cell_type": "markdown",
   "id": "5280c690",
   "metadata": {},
   "source": [
    ">> if there are some tuples with inconsistent size then the function that I have written below will not work correctly infact it may give index out of range error. It's also possible that it would not give any error, leading to incorrect results and also incorrect output. (We must know the indexes of transaction_ids and user_ids indexes in the tuples and data must be present at these indexes)"
   ]
  },
  {
   "cell_type": "code",
   "execution_count": 7,
   "id": "e8ebfa8e-a63a-48bd-9ac6-b9b8e3d8293b",
   "metadata": {},
   "outputs": [],
   "source": [
    "def get_ids(data):\n",
    "    transaction_ids = set()\n",
    "    user_ids = set()\n",
    "    for user in data:\n",
    "        transaction_ids.add(user[0])\n",
    "        user_ids.add(user[1])\n",
    "    return [list(transaction_ids), list(user_ids)]"
   ]
  },
  {
   "cell_type": "markdown",
   "id": "3326cd52-8c58-4e90-89cd-fa215e6bced4",
   "metadata": {},
   "source": [
    "## Part 3: Unique Data Handling with Sets\n",
    "### Write a function that:\n",
    "- Finds the users who visited both Page A and Page B."
   ]
  },
  {
   "cell_type": "code",
   "execution_count": 8,
   "id": "9dc5d5ef-b424-4383-b6f7-70c7ded8b19c",
   "metadata": {},
   "outputs": [],
   "source": [
    "def common_users(page_a, page_b):\n",
    "    out = page_a.intersection(page_b)\n",
    "    return out"
   ]
  },
  {
   "cell_type": "markdown",
   "id": "4b5bd839-54da-4073-b19d-2c6d6dc8fdeb",
   "metadata": {},
   "source": [
    "- Finds users who visited either Page A or Page C, but not both."
   ]
  },
  {
   "cell_type": "code",
   "execution_count": 9,
   "id": "7e249aa5-437d-47ec-9581-097be0109cac",
   "metadata": {},
   "outputs": [],
   "source": [
    "def unique_users(page_a, page_c):\n",
    "    out = page_a.symmetric_difference(page_c)\n",
    "    return out"
   ]
  },
  {
   "cell_type": "markdown",
   "id": "2cc1a136-29e0-42a1-bf27-d4e639d87df3",
   "metadata": {},
   "source": [
    "### Implement a function that:\n",
    "- Updates the set for Page A with new user IDs."
   ]
  },
  {
   "cell_type": "code",
   "execution_count": 10,
   "id": "89f81ace-8fc2-4e12-908c-d634abaffeea",
   "metadata": {},
   "outputs": [],
   "source": [
    "def update_a(page_a, new_users):\n",
    "    # page_a.update(new_users) or \n",
    "    for user in new_users:\n",
    "        page_a.add(user)"
   ]
  },
  {
   "cell_type": "markdown",
   "id": "92ad4f88-6c72-4420-800e-c1e01efa152b",
   "metadata": {},
   "source": [
    "- Removes a list of user IDs from the set for Page B."
   ]
  },
  {
   "cell_type": "code",
   "execution_count": 11,
   "id": "110f4c8f-ad0d-45ee-9ea3-7746a6a51258",
   "metadata": {},
   "outputs": [],
   "source": [
    "def remove_from_b(page_b, user_ids):\n",
    "    # page_a.difference_update(new_users) or \n",
    "    for user in user_ids:\n",
    "        page_b.remove(user)"
   ]
  },
  {
   "cell_type": "markdown",
   "id": "ef0e449b-e130-4527-bbd0-9a7e28b0e893",
   "metadata": {},
   "source": [
    "## Part 4: Data Aggregation with Dictionaries\n",
    "### Write a function that:\n",
    "- Filters out users who rated 4 or higher and stores their user_id and rating in a\n",
    "new dictionary."
   ]
  },
  {
   "cell_type": "code",
   "execution_count": 12,
   "id": "d6a7ce94-8c06-4cf0-b05d-cec11c23225f",
   "metadata": {},
   "outputs": [],
   "source": [
    "def filter_users(data):\n",
    "    out = {user_id: feedback['rating'] for user_id, feedback in data.items() if feedback['rating'] >= 4}\n",
    "    return out"
   ]
  },
  {
   "cell_type": "markdown",
   "id": "c0c70dee-8191-414b-8f0d-57e90e2c1da2",
   "metadata": {},
   "source": [
    "- sort the dictionary of user feedback by rating in descending order and return the\n",
    "top 5 users."
   ]
  },
  {
   "cell_type": "code",
   "execution_count": 13,
   "id": "3004f664-acf0-484d-9e31-dbf6cffa1268",
   "metadata": {},
   "outputs": [],
   "source": [
    "def top5_users(data):\n",
    "    out_filtered = filter_users(data)\n",
    "    out = dict(sorted(out_filtered.items(), key=lambda item: item[1], reverse=True)[:5])\n",
    "    return out"
   ]
  },
  {
   "cell_type": "markdown",
   "id": "35924c23-e3a7-4d1f-a788-fd600791be3e",
   "metadata": {},
   "source": [
    "### Implement a function that:\n",
    "- Combines feedback from multiple dictionaries. If a user is present in more than\n",
    "one dictionary, update their rating to the highest one and append their comments."
   ]
  },
  {
   "cell_type": "code",
   "execution_count": 14,
   "id": "b399c16d-2f55-4a32-af57-1405a031f4b9",
   "metadata": {},
   "outputs": [],
   "source": [
    "def update_feedback(out1):\n",
    "    new_feedback = {}\n",
    "    for feedback in out1:\n",
    "        for user_id, comments in feedback.items():\n",
    "            if user_id in new_feedback:\n",
    "                new_feedback[user_id]['rating'] = max(new_feedback[user_id]['rating'], comments['rating'])\n",
    "                new_feedback[user_id]['comments'].append(comments['comments'])\n",
    "            else:\n",
    "                new_feedback[user_id] = {\n",
    "                    'rating': comments['rating'],\n",
    "                    'comments': [comments['comments']]\n",
    "                }\n",
    "    return new_feedback"
   ]
  },
  {
   "cell_type": "markdown",
   "id": "11c04697-080d-4b89-8793-cfe8538fcbd0",
   "metadata": {},
   "source": [
    "- Use dictionary comprehension to create a dictionary of user_id and rating for all\n",
    "users whose rating is greater than 3."
   ]
  },
  {
   "cell_type": "code",
   "execution_count": 15,
   "id": "48439e4a-1956-4643-b78f-fdc8a181471b",
   "metadata": {},
   "outputs": [],
   "source": [
    "def rating_above_3(out2):\n",
    "    out = {user_id: comments['rating'] for user_id, comments in out2.items() if comments['rating'] > 3}\n",
    "    return out"
   ]
  },
  {
   "cell_type": "code",
   "execution_count": null,
   "id": "5783dc95-34c4-410e-8490-ab971e7f9703",
   "metadata": {},
   "outputs": [],
   "source": []
  }
 ],
 "metadata": {
  "kernelspec": {
   "display_name": "Python 3",
   "language": "python",
   "name": "python3"
  },
  "language_info": {
   "codemirror_mode": {
    "name": "ipython",
    "version": 3
   },
   "file_extension": ".py",
   "mimetype": "text/x-python",
   "name": "python",
   "nbconvert_exporter": "python",
   "pygments_lexer": "ipython3",
   "version": "3.12.6"
  }
 },
 "nbformat": 4,
 "nbformat_minor": 5
}
